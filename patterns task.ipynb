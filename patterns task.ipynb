{
 "cells": [
  {
   "cell_type": "markdown",
   "id": "4073ec30",
   "metadata": {},
   "source": [
    "### 1.Create a python program to print the below pattern using for loop as or while loop"
   ]
  },
  {
   "cell_type": "code",
   "execution_count": 1,
   "id": "5b5f0534",
   "metadata": {},
   "outputs": [
    {
     "name": "stdout",
     "output_type": "stream",
     "text": [
      "1 \n",
      "22 \n",
      "333 \n",
      "4444 \n",
      "55555 \n"
     ]
    }
   ],
   "source": [
    "# a)\n",
    "for y in range(1,6):\n",
    "    for j in range(y):\n",
    "        print(y,end=\"\")\n",
    "    print(\" \")"
   ]
  },
  {
   "cell_type": "code",
   "execution_count": 2,
   "id": "d4114c88",
   "metadata": {},
   "outputs": [
    {
     "name": "stdout",
     "output_type": "stream",
     "text": [
      "1 \n",
      "12 \n",
      "123 \n",
      "1234 \n",
      "12345 \n"
     ]
    }
   ],
   "source": [
    "# b)\n",
    "for y in range(1,6):\n",
    "    for j in range(y):\n",
    "        print(j+1,end=\"\")\n",
    "    print(\" \")"
   ]
  },
  {
   "cell_type": "code",
   "execution_count": 3,
   "id": "8a246218",
   "metadata": {},
   "outputs": [
    {
     "name": "stdout",
     "output_type": "stream",
     "text": [
      "11111 \n",
      "2222 \n",
      "333 \n",
      "44 \n",
      "5 \n"
     ]
    }
   ],
   "source": [
    "# c)\n",
    "for y in range(1,6):\n",
    "    for j in range(y,6):\n",
    "        print(y,end=\"\")\n",
    "    print(\" \")"
   ]
  },
  {
   "cell_type": "code",
   "execution_count": 4,
   "id": "dedef74c",
   "metadata": {},
   "outputs": [
    {
     "name": "stdout",
     "output_type": "stream",
     "text": [
      "55555 \n",
      "5555 \n",
      "555 \n",
      "55 \n",
      "5 \n"
     ]
    }
   ],
   "source": [
    "# d)\n",
    "for y in range(1,6):\n",
    "    for j in range(y,6):\n",
    "        print(5,end=\"\")\n",
    "    print(\" \")"
   ]
  },
  {
   "cell_type": "code",
   "execution_count": 5,
   "id": "13df8b05",
   "metadata": {},
   "outputs": [
    {
     "name": "stdout",
     "output_type": "stream",
     "text": [
      "0 1 2 3 4 5  \n",
      "0 1 2 3 4  \n",
      "0 1 2 3  \n",
      "0 1 2  \n",
      "0 1  \n"
     ]
    }
   ],
   "source": [
    "# e)\n",
    "x=7\n",
    "for y in range(1,6):\n",
    "    x=x-1\n",
    "    for j in range(0,x):\n",
    "        print(j,end=\" \")\n",
    "    print(\" \")"
   ]
  },
  {
   "cell_type": "code",
   "execution_count": 6,
   "id": "946a6a66",
   "metadata": {},
   "outputs": [
    {
     "name": "stdout",
     "output_type": "stream",
     "text": [
      "1 \n",
      "33 \n",
      "555 \n",
      "7777 \n",
      "99999 \n"
     ]
    }
   ],
   "source": [
    "# f)\n",
    "for y in range(1,10,2):\n",
    "    for j in range(0,y,2):\n",
    "        print(y,end=\"\")\n",
    "    print(\" \")"
   ]
  },
  {
   "cell_type": "code",
   "execution_count": 7,
   "id": "4478d745",
   "metadata": {},
   "outputs": [
    {
     "name": "stdout",
     "output_type": "stream",
     "text": [
      "55555 \n",
      "4444 \n",
      "333 \n",
      "22 \n",
      "1 \n"
     ]
    }
   ],
   "source": [
    "# g)\n",
    "for y in reversed(range(1,6)):\n",
    "    for j in range(0,y):\n",
    "        print(y,end=\"\")\n",
    "    print(\" \")"
   ]
  },
  {
   "cell_type": "code",
   "execution_count": 8,
   "id": "fee3d439",
   "metadata": {},
   "outputs": [
    {
     "name": "stdout",
     "output_type": "stream",
     "text": [
      "1 \n",
      "21 \n",
      "321 \n",
      "4321 \n",
      "54321 \n"
     ]
    }
   ],
   "source": [
    "# h)\n",
    "for y in (range(1,6)):\n",
    "    for j in reversed(range(y)):\n",
    "        print((j+1),end=\"\")\n",
    "    print(\" \")"
   ]
  },
  {
   "cell_type": "code",
   "execution_count": 9,
   "id": "df38ec95",
   "metadata": {},
   "outputs": [
    {
     "name": "stdout",
     "output_type": "stream",
     "text": [
      "54321 \n",
      "4321 \n",
      "321 \n",
      "21 \n",
      "1 \n"
     ]
    }
   ],
   "source": [
    "# i)\n",
    "for y in reversed((range(1,6))):\n",
    "    for j in reversed(range(y)):\n",
    "        print((j+1),end=\"\")\n",
    "    print(\" \")"
   ]
  },
  {
   "cell_type": "code",
   "execution_count": 4,
   "id": "9fabfb6f",
   "metadata": {},
   "outputs": [
    {
     "name": "stdout",
     "output_type": "stream",
     "text": [
      "1\n",
      "32\n",
      "654\n",
      "10987\n"
     ]
    }
   ],
   "source": [
    "# j)\n",
    "x=\"1\"\n",
    "for y in x:\n",
    "    print(\"1\")\n",
    "    for z in y:\n",
    "        print(\"32\")\n",
    "    for a in z:\n",
    "        print(\"654\")\n",
    "else:\n",
    "    print(\"10987\")"
   ]
  },
  {
   "cell_type": "code",
   "execution_count": 5,
   "id": "fc3919f5",
   "metadata": {},
   "outputs": [
    {
     "name": "stdout",
     "output_type": "stream",
     "text": [
      "    1\n",
      "   12\n",
      "  123\n",
      " 1234\n",
      "12345\n"
     ]
    }
   ],
   "source": [
    "# k)\n",
    "x=1\n",
    "while x<=5:\n",
    "    if x==1:\n",
    "        print(\"    1\")\n",
    "    elif x==2:\n",
    "        print(\"   12\")\n",
    "    elif x==3:\n",
    "        print(\"  123\")\n",
    "    elif x==4:\n",
    "        print(\" 1234\")\n",
    "    else:\n",
    "        print(\"12345\")\n",
    "    x=x+1"
   ]
  },
  {
   "cell_type": "code",
   "execution_count": 8,
   "id": "27f62e4c",
   "metadata": {},
   "outputs": [
    {
     "name": "stdout",
     "output_type": "stream",
     "text": [
      "1\n",
      "1 1\n",
      "1 2 1\n",
      "1 3 3 1\n",
      "1 4 6 4 1\n",
      "1 5 10 10 5 1\n",
      "1 6 15 20 15 6 1\n"
     ]
    }
   ],
   "source": [
    "# l)\n",
    "x=\"1234567\"\n",
    "for y in x:\n",
    "    if y==\"1\":\n",
    "        print(\"1\")\n",
    "    elif y==\"2\":\n",
    "        print(\"1 1\")\n",
    "    elif y==\"3\":\n",
    "        print(\"1 2 1\")\n",
    "    elif y==\"4\":\n",
    "        print(\"1 3 3 1\")\n",
    "    elif y==\"5\":\n",
    "        print(\"1 4 6 4 1\")\n",
    "    elif y==\"6\":\n",
    "        print(\"1 5 10 10 5 1\")\n",
    "else:\n",
    "    print(\"1 6 15 20 15 6 1\")"
   ]
  },
  {
   "cell_type": "code",
   "execution_count": 9,
   "id": "ad0a943e",
   "metadata": {},
   "outputs": [
    {
     "name": "stdout",
     "output_type": "stream",
     "text": [
      "12345\n",
      "22345\n",
      "33345\n",
      "44445\n",
      "55555\n"
     ]
    }
   ],
   "source": [
    "# m)\n",
    "x=\"1\"\n",
    "for y in x:\n",
    "    print(\"12345\")\n",
    "    print(\"22345\")\n",
    "    print(\"33345\")\n",
    "    print(\"44445\")\n",
    "else:\n",
    "    print(\"5\"*5)\n"
   ]
  },
  {
   "cell_type": "code",
   "execution_count": 10,
   "id": "4fd5c2d2",
   "metadata": {},
   "outputs": [
    {
     "name": "stdout",
     "output_type": "stream",
     "text": [
      "1\n",
      "2 4\n",
      "3 6 9\n",
      "4 8 12 16\n",
      "5 10 15 20 25\n",
      "6 12 18 24 30 36\n",
      "7 14 21 28 35 42 49\n",
      "8 16 24 32 40 48 56 64\n"
     ]
    }
   ],
   "source": [
    "# n)\n",
    "x=1\n",
    "while x<9:\n",
    "    if x==1:\n",
    "        print(\"1\")\n",
    "    elif x==2:\n",
    "        print(\"2 4\")\n",
    "    elif x==3:\n",
    "        print(\"3 6 9\")\n",
    "    elif x==4:\n",
    "        print(\"4 8 12 16\")\n",
    "    elif x==5:\n",
    "        print(\"5 10 15 20 25\")\n",
    "    elif x==6:\n",
    "        print(\"6 12 18 24 30 36\")\n",
    "    elif x==7:\n",
    "        print(\"7 14 21 28 35 42 49\")\n",
    "    else:\n",
    "        print(\"8 16 24 32 40 48 56 64\")\n",
    "    x=x+1"
   ]
  },
  {
   "cell_type": "code",
   "execution_count": 12,
   "id": "150d6fae",
   "metadata": {},
   "outputs": [
    {
     "name": "stdout",
     "output_type": "stream",
     "text": [
      "*  \n",
      "* *  \n",
      "* * *  \n",
      "* * * *  \n",
      "* * * * *  \n"
     ]
    }
   ],
   "source": [
    "# o)\n",
    "for y in range(1,6):\n",
    "    for j in range(y):\n",
    "        print(\"*\",end=\" \")\n",
    "    print(\" \")"
   ]
  },
  {
   "cell_type": "code",
   "execution_count": 3,
   "id": "817169c6",
   "metadata": {},
   "outputs": [
    {
     "name": "stdout",
     "output_type": "stream",
     "text": [
      "         * \n",
      "       * *\n",
      "     * * *\n",
      "   * * * *\n",
      " * * * * *\n"
     ]
    }
   ],
   "source": [
    "# P)\n",
    "x=1\n",
    "while x<=5:\n",
    "    if x==1:\n",
    "        print(\"         * \")\n",
    "    elif x==2:\n",
    "        print(\"       * *\")\n",
    "    elif x==3:\n",
    "        print(\"     * * *\")\n",
    "    elif x==4:\n",
    "        print(\"   * * * *\")\n",
    "    else:\n",
    "        print(\" * * * * *\")\n",
    "    x=x+1"
   ]
  },
  {
   "cell_type": "code",
   "execution_count": 15,
   "id": "0d0597bd",
   "metadata": {},
   "outputs": [
    {
     "name": "stdout",
     "output_type": "stream",
     "text": [
      "* * * * *  \n",
      "* * * *  \n",
      "* * *  \n",
      "* *  \n",
      "*  \n"
     ]
    }
   ],
   "source": [
    "# q)\n",
    "for y in range(1,6):\n",
    "    for j in range(y,6):\n",
    "        print(\"*\",end=\" \")\n",
    "    print(\" \")"
   ]
  },
  {
   "cell_type": "code",
   "execution_count": 2,
   "id": "6a17d7d6",
   "metadata": {},
   "outputs": [
    {
     "name": "stdout",
     "output_type": "stream",
     "text": [
      "* * * * * *\n",
      " * * * * * \n",
      "  * * * *  \n",
      "   * * *   \n",
      "    * *    \n",
      "     *     \n"
     ]
    }
   ],
   "source": [
    "# r)\n",
    "x=1\n",
    "while x<7:\n",
    "    if x==1:\n",
    "        print(\"* * * * * *\")\n",
    "    elif x==2:\n",
    "        print(\" * * * * * \")\n",
    "    elif x==3:\n",
    "        print(\"  * * * *  \")\n",
    "    elif x==4:\n",
    "        print(\"   * * *   \")\n",
    "    elif x==5:\n",
    "        print(\"    * *    \")\n",
    "    else:\n",
    "        print(\"     *     \")\n",
    "    x=x+1"
   ]
  },
  {
   "cell_type": "code",
   "execution_count": 10,
   "id": "d494b084",
   "metadata": {},
   "outputs": [
    {
     "name": "stdout",
     "output_type": "stream",
     "text": [
      "*****\n",
      " ****\n",
      "  ***\n",
      "   **\n",
      "    *\n"
     ]
    }
   ],
   "source": [
    "# s)\n",
    "x=1\n",
    "while x<=5:\n",
    "    if x==1:\n",
    "        print(\"*****\")\n",
    "    elif x==2:\n",
    "        print(\" ****\")\n",
    "    elif x==3:\n",
    "        print(\"  ***\")\n",
    "    elif x==4:\n",
    "        print(\"   **\")\n",
    "    else:\n",
    "        print(\"    *\")\n",
    "    x=x+1"
   ]
  },
  {
   "cell_type": "code",
   "execution_count": 4,
   "id": "5017f9d1",
   "metadata": {},
   "outputs": [
    {
     "name": "stdout",
     "output_type": "stream",
     "text": [
      "      * \n",
      "     * * \n",
      "    * * *   \n",
      "   * * * *   \n",
      "  * * * * *  \n",
      " * * * * * * \n",
      "* * * * * * *\n"
     ]
    }
   ],
   "source": [
    "# t)\n",
    "x=1\n",
    "while x<=7:\n",
    "    if x==1:\n",
    "        print(\"      * \")\n",
    "    elif x==2:\n",
    "        print(\"     * * \")\n",
    "    elif x==3:\n",
    "        print(\"    * * *   \")\n",
    "    elif x==4:\n",
    "        print(\"   * * * *   \")\n",
    "    elif x==5:\n",
    "        print(\"  * * * * *  \")\n",
    "    elif x==6:\n",
    "        print(\" * * * * * * \")\n",
    "    else:\n",
    "        print(\"* * * * * * *\")\n",
    "    x=x+1"
   ]
  },
  {
   "cell_type": "code",
   "execution_count": 19,
   "id": "977eec35",
   "metadata": {},
   "outputs": [
    {
     "name": "stdout",
     "output_type": "stream",
     "text": [
      "*  \n",
      "* *  \n",
      "* * *  \n",
      "* * * *  \n",
      "* * * * *  \n",
      " \n",
      "* * * * *  \n",
      "* * * *  \n",
      "* * *  \n",
      "* *  \n",
      "*  \n"
     ]
    }
   ],
   "source": [
    "# u)\n",
    "for y in range(1,6):\n",
    "    for j in range(y):\n",
    "        print(\"*\",end=\" \")\n",
    "    print(\" \")\n",
    "print(\" \")\n",
    "for y in range(1,6):\n",
    "    for j in range(y,6):\n",
    "        print(\"*\",end=\" \")\n",
    "    print(\" \")"
   ]
  },
  {
   "cell_type": "code",
   "execution_count": 27,
   "id": "6cf778a4",
   "metadata": {},
   "outputs": [
    {
     "name": "stdout",
     "output_type": "stream",
     "text": [
      "*  \n",
      "* *  \n",
      "* * *  \n",
      "* * * *  \n",
      "* * * * *  \n",
      "* * * *  \n",
      "* * *  \n",
      "* *  \n",
      "*  \n"
     ]
    }
   ],
   "source": [
    "# v)\n",
    "for y in range(1,6):\n",
    "    for j in range(y):\n",
    "        print(\"*\",end=\" \")\n",
    "    print(\" \")\n",
    "for y in range(2,6):\n",
    "    for j in range(y,6):\n",
    "        print(\"*\",end=\" \")\n",
    "    print(\" \")"
   ]
  },
  {
   "cell_type": "code",
   "execution_count": 5,
   "id": "decfb9f8",
   "metadata": {},
   "outputs": [
    {
     "name": "stdout",
     "output_type": "stream",
     "text": [
      "         * \n",
      "       * *\n",
      "     * * *\n",
      "   * * * *\n",
      " * * * * *\n",
      "   * * * *\n",
      "     * * *\n",
      "       * *\n",
      "         *\n"
     ]
    }
   ],
   "source": [
    "# w)\n",
    "x=1\n",
    "while x<=9:\n",
    "    if x==1:\n",
    "        print(\"         * \")\n",
    "    elif x==2:\n",
    "        print(\"       * *\")\n",
    "    elif x==3:\n",
    "        print(\"     * * *\")\n",
    "    elif x==4:\n",
    "        print(\"   * * * *\")\n",
    "    elif x==5:\n",
    "        print(\" * * * * *\")\n",
    "    elif x==6:\n",
    "        print(\"   * * * *\")\n",
    "    elif x==7:\n",
    "        print(\"     * * *\")\n",
    "    elif x==8:\n",
    "        print(\"       * *\")\n",
    "    else:\n",
    "        print(\"         *\")\n",
    "    x=x+1"
   ]
  },
  {
   "cell_type": "code",
   "execution_count": 7,
   "id": "151ca166",
   "metadata": {},
   "outputs": [
    {
     "name": "stdout",
     "output_type": "stream",
     "text": [
      "* * * * *\n",
      " * * * *\n",
      "  * * * \n",
      "   * *   \n",
      "    *   \n",
      "    *   \n",
      "   * *   \n",
      "  * * * \n",
      " * * * *\n",
      "* * * * *\n"
     ]
    }
   ],
   "source": [
    "# x)\n",
    "x=1\n",
    "while x<=10:\n",
    "    if x==1 or x==10:\n",
    "        print(\"* * * * *\")\n",
    "    elif x==2 or x==9:\n",
    "        print(\" * * * *\")\n",
    "    elif x==3 or x==8:\n",
    "        print(\"  * * * \")\n",
    "    elif x==4 or x==7:\n",
    "        print(\"   * *   \")\n",
    "    else:\n",
    "        print(\"    *   \")\n",
    "    x=x+1"
   ]
  },
  {
   "cell_type": "code",
   "execution_count": 8,
   "id": "35c20300",
   "metadata": {},
   "outputs": [
    {
     "name": "stdout",
     "output_type": "stream",
     "text": [
      "     *  \n",
      "    * *  \n",
      "   * * *  \n",
      "  * * * * \n",
      " * * * * *\n",
      "* * * * * *\n",
      " * * * * *\n",
      "  * * * * \n",
      "   * * *  \n",
      "    * *  \n",
      "     *  \n"
     ]
    }
   ],
   "source": [
    "# y)\n",
    "x=1\n",
    "while x<=11:\n",
    "    if x==1 or x==11:\n",
    "        print(\"     *  \")\n",
    "    elif x==2 or x==10:\n",
    "        print(\"    * *  \")\n",
    "    elif x==3 or x==9:\n",
    "        print(\"   * * *  \")\n",
    "    elif x==4 or x==8:\n",
    "        print(\"  * * * * \")\n",
    "    elif x==5 or x==7:\n",
    "        print(\" * * * * *\")\n",
    "    else:\n",
    "        print(\"* * * * * *\")\n",
    "    x=x+1"
   ]
  },
  {
   "cell_type": "code",
   "execution_count": 9,
   "id": "3287e107",
   "metadata": {},
   "outputs": [
    {
     "name": "stdout",
     "output_type": "stream",
     "text": [
      "     *  \n",
      "    * *  \n",
      "   *   *  \n",
      "  *     * \n",
      " *       *\n",
      "  *     * \n",
      "   *   *  \n",
      "    * *  \n",
      "     *  \n"
     ]
    }
   ],
   "source": [
    "# z)\n",
    "x=1\n",
    "while x<=9:\n",
    "    if x==1 or x==9:\n",
    "        print(\"     *  \")\n",
    "    elif x==2 or x==8:\n",
    "        print(\"    * *  \")\n",
    "    elif x==3 or x==7:\n",
    "        print(\"   *   *  \")\n",
    "    elif x==4 or x==6:\n",
    "        print(\"  *     * \")\n",
    "    else:\n",
    "        print(\" *       *\")\n",
    "    x=x+1"
   ]
  },
  {
   "cell_type": "code",
   "execution_count": null,
   "id": "87a65602",
   "metadata": {},
   "outputs": [],
   "source": []
  }
 ],
 "metadata": {
  "kernelspec": {
   "display_name": "Python 3 (ipykernel)",
   "language": "python",
   "name": "python3"
  },
  "language_info": {
   "codemirror_mode": {
    "name": "ipython",
    "version": 3
   },
   "file_extension": ".py",
   "mimetype": "text/x-python",
   "name": "python",
   "nbconvert_exporter": "python",
   "pygments_lexer": "ipython3",
   "version": "3.11.3"
  }
 },
 "nbformat": 4,
 "nbformat_minor": 5
}
