{
 "cells": [
  {
   "cell_type": "code",
   "execution_count": null,
   "id": "6bec074c",
   "metadata": {},
   "outputs": [],
   "source": [
    "\n",
    "#  1) Given a list of numbers, write a python program that returns a new list which Has all duplicate elements removed. And is sorted in an increasing order.list1=input(\"enter the list: \").split()"
   ]
  },
  {
   "cell_type": "code",
   "execution_count": 2,
   "id": "14e5cf80",
   "metadata": {},
   "outputs": [
    {
     "name": "stdout",
     "output_type": "stream",
     "text": [
      "enter the list: 1 2 3 4 5 6 7\n",
      "\n",
      "the sorted list: ['1', '2', '3', '4', '5', '6', '7']\n"
     ]
    }
   ],
   "source": [
    "list1=input(\"enter the list: \").split()\n",
    "set1=set()\n",
    "for x in list1:\n",
    "    set1.add(x)\n",
    "\n",
    "unique_list=list(set1)\n",
    "unique_list.sort()\n",
    "\n",
    "print(\"\")\n",
    "print(\"the sorted list:\",unique_list)"
   ]
  },
  {
   "cell_type": "code",
   "execution_count": 3,
   "id": "ffb1ba5c",
   "metadata": {},
   "outputs": [],
   "source": [
    "#2). Write a Python program where you will iterate over both keys and values in dictionaries"
   ]
  },
  {
   "cell_type": "code",
   "execution_count": 4,
   "id": "2323f287",
   "metadata": {},
   "outputs": [
    {
     "name": "stdout",
     "output_type": "stream",
     "text": [
      "no of elements: 5\n",
      "enter the list: 1 surya\n",
      "enter the list: 2 venkat \n",
      "enter the list: 3 kiran\n",
      "enter the list: 4 lax \n",
      "enter the list: 5 sai\n",
      "('1', 'surya')\n",
      "('2', 'venkat')\n",
      "('3', 'kiran')\n",
      "('4', 'lax')\n",
      "('5', 'sai')\n"
     ]
    }
   ],
   "source": [
    "dictionary={}\n",
    "n=int(input(\"no of elements: \"))\n",
    "for i in range(n):\n",
    "    key,value=(input(\"enter the list: \").split())\n",
    "    dictionary[key]=value\n",
    "for i in dictionary.items():\n",
    "    print(i)"
   ]
  },
  {
   "cell_type": "code",
   "execution_count": 5,
   "id": "7b5e77c3",
   "metadata": {},
   "outputs": [],
   "source": [
    "#3). Write a Python program that takes a dictionary of student names and returns a list of student names in alphabetical order"
   ]
  },
  {
   "cell_type": "code",
   "execution_count": 6,
   "id": "d35a29d2",
   "metadata": {},
   "outputs": [
    {
     "name": "stdout",
     "output_type": "stream",
     "text": [
      "no of elements: 4\n",
      "enter the list: 1 surya \n",
      "enter the list: 2 kiran \n",
      "enter the list: 3 ramya \n",
      "enter the list: 4  chinni\n",
      "{'1': 'surya', '2': 'kiran', '3': 'ramya', '4': 'chinni'}\n",
      "\n",
      "new list is: ['chinni', 'kiran', 'ramya', 'surya']\n"
     ]
    }
   ],
   "source": [
    "dictionary={}\n",
    "n=int(input(\"no of elements: \"))\n",
    "for i in range(n):\n",
    "    key,values=(input(\"enter the list: \").split())\n",
    "    dictionary[key]=values\n",
    "print(dictionary)\n",
    "\n",
    "list1=[]\n",
    "for i in dictionary.values():\n",
    "    list1.append(i)\n",
    "    list1.sort()\n",
    "print(\"\")\n",
    "print(\"new list is:\",list1)"
   ]
  },
  {
   "cell_type": "code",
   "execution_count": 8,
   "id": "218b5825",
   "metadata": {},
   "outputs": [],
   "source": [
    "#4). Write a Python which returns a new list of Booleans, from a given number. Iterating through the number one digit at a time, append True if the digit is 1 and False if it is 0.\n",
    "list1=[]"
   ]
  },
  {
   "cell_type": "code",
   "execution_count": 9,
   "id": "c3674cab",
   "metadata": {},
   "outputs": [
    {
     "name": "stdout",
     "output_type": "stream",
     "text": [
      "enter the number: 202002\n",
      "\n",
      "new list is: [False, False, False]\n"
     ]
    }
   ],
   "source": [
    "n=input(\"enter the number: \")\n",
    "for i in n:\n",
    "    i=int(i)\n",
    "    if i==1:\n",
    "        list1.append(True)\n",
    "    elif i==0:\n",
    "        list1.append(False)\n",
    "print(\"\")\n",
    "print(\"new list is:\",list1)"
   ]
  },
  {
   "cell_type": "code",
   "execution_count": null,
   "id": "06a1f736",
   "metadata": {},
   "outputs": [],
   "source": [
    "# 5). Write a Python program where you will return a dictionary where the keys will be the character and the values will be the occurrence of the character in the string, and it should for any string inputs (dynamic).\n",
    "d={}"
   ]
  },
  {
   "cell_type": "code",
   "execution_count": 11,
   "id": "063ebf08",
   "metadata": {},
   "outputs": [
    {
     "name": "stdout",
     "output_type": "stream",
     "text": [
      "enter the string: kirankumar\n",
      "{'k': 2, 'i': 1, 'r': 2, 'a': 2, 'n': 1, 'u': 1, 'm': 1}\n"
     ]
    }
   ],
   "source": [
    "d={}\n",
    "n=input(\"enter the string: \")\n",
    "for i in n:\n",
    "    if i not in d:\n",
    "        d[i]=1\n",
    "    else:\n",
    "        d[i]=d[i]+1\n",
    "print(d)"
   ]
  },
  {
   "cell_type": "code",
   "execution_count": null,
   "id": "2a523699",
   "metadata": {},
   "outputs": [],
   "source": [
    "#7). Write a Python program to create a Rock, Paper, Scissor game, use two inputs for two players : Conditions: -Rock beats Scissors, Scissors beats Paper, Paper beats Rock"
   ]
  },
  {
   "cell_type": "code",
   "execution_count": 12,
   "id": "b56374ac",
   "metadata": {},
   "outputs": [
    {
     "name": "stdout",
     "output_type": "stream",
     "text": [
      "enter Rock OR Paper OR Scissors: scissors\n",
      "enter Rock OR Paper OR Scissors: rock\n",
      "player2 wins\n"
     ]
    }
   ],
   "source": [
    "player1=input(\"enter Rock OR Paper OR Scissors: \")\n",
    "player2=input(\"enter Rock OR Paper OR Scissors: \")\n",
    "if((player1==\"rock\") and (player2==\"scissors\")) or (player1==\"scissors\") and (player2==\"paper\") or (player1==\"paper\") and (player2==\"rock\"):\n",
    "    print(\"player1 wins\")\n",
    "elif((player1==\"scissors\") and (player2==\"rock\")) or (player1==\"paper\") and (player2==\"scissors\") or (player1==\"rock\") and (player2==\"paper\"):\n",
    "    print(\"player2 wins\")\n",
    "else:\n",
    "    print(\"both are same, play again\")\n"
   ]
  },
  {
   "cell_type": "code",
   "execution_count": null,
   "id": "6f801ce0",
   "metadata": {},
   "outputs": [],
   "source": [
    "#9) 9. Write a Python program to create a union of sets"
   ]
  },
  {
   "cell_type": "code",
   "execution_count": 13,
   "id": "0f037237",
   "metadata": {},
   "outputs": [
    {
     "name": "stdout",
     "output_type": "stream",
     "text": [
      "enter set1: surya\n",
      "enter set2: kiran\n"
     ]
    },
    {
     "data": {
      "text/plain": [
       "{'kiran', 'surya'}"
      ]
     },
     "execution_count": 13,
     "metadata": {},
     "output_type": "execute_result"
    }
   ],
   "source": [
    "s1=set(input(\"enter set1: \").split())\n",
    "s2=set(input(\"enter set2: \").split())\n",
    "s1.union(s2)"
   ]
  },
  {
   "cell_type": "code",
   "execution_count": 15,
   "id": "ef2a61ce",
   "metadata": {},
   "outputs": [],
   "source": [
    "#10). Write a Python program to check if a given value is present in a set or not (Dynamic)"
   ]
  },
  {
   "cell_type": "code",
   "execution_count": 16,
   "id": "c9f5d1b8",
   "metadata": {},
   "outputs": [
    {
     "name": "stdout",
     "output_type": "stream",
     "text": [
      "enter set1: 12345\n",
      "{'12345'}\n",
      "enter the number to check: 5\n",
      "\n",
      "given value is not present in the set\n"
     ]
    }
   ],
   "source": [
    "s1=set(input(\"enter set1: \").split())\n",
    "print(s1)\n",
    "k=input(\"enter the number to check: \")\n",
    "print(\"\")\n",
    "if k in s1:\n",
    "    print(\"given value is present in the set\")\n",
    "else:\n",
    "    print(\"given value is not present in the set\")"
   ]
  }
 ],
 "metadata": {
  "kernelspec": {
   "display_name": "Python 3 (ipykernel)",
   "language": "python",
   "name": "python3"
  },
  "language_info": {
   "codemirror_mode": {
    "name": "ipython",
    "version": 3
   },
   "file_extension": ".py",
   "mimetype": "text/x-python",
   "name": "python",
   "nbconvert_exporter": "python",
   "pygments_lexer": "ipython3",
   "version": "3.11.3"
  }
 },
 "nbformat": 4,
 "nbformat_minor": 5
}
