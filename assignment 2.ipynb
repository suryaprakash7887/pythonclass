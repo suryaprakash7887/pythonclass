{
 "cells": [
  {
   "cell_type": "code",
   "execution_count": null,
   "id": "16bb541d",
   "metadata": {},
   "outputs": [],
   "source": [
    "# 1) Write a program to accept two numbers from the user and calculate multiplication, division"
   ]
  },
  {
   "cell_type": "code",
   "execution_count": 1,
   "id": "10def27a",
   "metadata": {},
   "outputs": [
    {
     "name": "stdout",
     "output_type": "stream",
     "text": [
      "enter any number2\n",
      "enter any number3\n",
      "6\n",
      "0.6666666666666666\n"
     ]
    }
   ],
   "source": [
    "x=int(input(\"enter any number\"))\n",
    "y=int(input(\"enter any number\"))\n",
    "if 3>1:\n",
    "    print(x*y)\n",
    "    print(x/y)\n"
   ]
  },
  {
   "cell_type": "code",
   "execution_count": null,
   "id": "f64965f9",
   "metadata": {},
   "outputs": [],
   "source": [
    "# 2) Write a python program to print the characters from a string that are present at an even index"
   ]
  },
  {
   "cell_type": "code",
   "execution_count": 19,
   "id": "bbe72f4e",
   "metadata": {},
   "outputs": [
    {
     "name": "stdout",
     "output_type": "stream",
     "text": [
      "Please enter input surya\n",
      "s\n",
      "r\n",
      "a\n"
     ]
    }
   ],
   "source": [
    "x = input(\"Please enter input \")\n",
    "for i  in x:\n",
    "    if (x.index(i))%2==0:\n",
    "        print(i)"
   ]
  },
  {
   "cell_type": "code",
   "execution_count": 14,
   "id": "bb0b2b1d",
   "metadata": {},
   "outputs": [
    {
     "name": "stdout",
     "output_type": "stream",
     "text": [
      "Please enter your input surya\n",
      "u\n",
      "y\n"
     ]
    }
   ],
   "source": [
    "# 3) Write a python program to print the characters from a string that are present at an even index\n",
    "x = input(\"Please enter input \")\n",
    "for i in x:\n",
    "    if (x.index(i))%2 !=0:\n",
    "        print(i)"
   ]
  },
  {
   "cell_type": "code",
   "execution_count": 31,
   "id": "69c9c796",
   "metadata": {},
   "outputs": [
    {
     "name": "stdout",
     "output_type": "stream",
     "text": [
      "Enter first number: 9\n",
      "Enter second number: 2\n",
      "11\n"
     ]
    }
   ],
   "source": [
    "# 4)Write a python program which will print the sum of the two numbers if the two numbers are even or it will print the difference of two numbers\n",
    "num1 = int(input('Enter first number: '))\n",
    "num2 = int(input('Enter second number: '))\n",
    "if 2%2==0 and  4%2==0:\n",
    "    print(num1+num2) \n",
    "else:\n",
    "    print(num1-num2)"
   ]
  },
  {
   "cell_type": "code",
   "execution_count": null,
   "id": "21e25bec",
   "metadata": {},
   "outputs": [],
   "source": [
    "# 5)Write a python program to convert all even indexed alphabets to upper and odd indexed char"
   ]
  },
  {
   "cell_type": "code",
   "execution_count": 18,
   "id": "8d6e7713",
   "metadata": {},
   "outputs": [
    {
     "name": "stdout",
     "output_type": "stream",
     "text": [
      "enter the name:programming\n",
      "PrOgraMMIng"
     ]
    }
   ],
   "source": [
    "string=input(\"enter the name:\")\n",
    "for y in string:\n",
    "    if string.index(y)%2==0:\n",
    "        y=y.upper()\n",
    "        print(y,end=\"\")\n",
    "    else: \n",
    "        y=y.lower()\n",
    "        print(y,end=\"\")"
   ]
  },
  {
   "cell_type": "code",
   "execution_count": 32,
   "id": "60f23584",
   "metadata": {},
   "outputs": [
    {
     "name": "stdout",
     "output_type": "stream",
     "text": [
      "Enter first number: 52\n",
      "false\n"
     ]
    }
   ],
   "source": [
    "num = int(input('Enter any number: '))\n",
    "if num%5==0 :\n",
    "    print(\"true\")\n",
    "else:\n",
    "    print(\"false\")"
   ]
  },
  {
   "cell_type": "code",
   "execution_count": null,
   "id": "13d92ffa",
   "metadata": {},
   "outputs": [],
   "source": [
    "# 7) Given two integer numbers return their product only if the product is greater than 1000, else return their sum"
   ]
  },
  {
   "cell_type": "code",
   "execution_count": 33,
   "id": "20401c92",
   "metadata": {},
   "outputs": [
    {
     "name": "stdout",
     "output_type": "stream",
     "text": [
      "enter any number100\n",
      "enter any number100\n",
      "10000\n"
     ]
    }
   ],
   "source": [
    "x=int(input(\"enter any number\"))\n",
    "y=int(input(\"enter any number\"))\n",
    "if x*y>1000:\n",
    "    print(x*y)\n",
    "else:\n",
    "    print(x+y)"
   ]
  },
  {
   "cell_type": "code",
   "execution_count": 34,
   "id": "c721b567",
   "metadata": {},
   "outputs": [],
   "source": [
    "#8)Given two strings x, y writes a program to return a new string made of x and y’s first, middle, and last characters"
   ]
  },
  {
   "cell_type": "code",
   "execution_count": 23,
   "id": "afa22ae4",
   "metadata": {},
   "outputs": [
    {
     "name": "stdout",
     "output_type": "stream",
     "text": [
      "enter the first string:surya\n",
      "enter the second string:chinni\n"
     ]
    },
    {
     "data": {
      "text/plain": [
       "'scrian'"
      ]
     },
     "execution_count": 23,
     "metadata": {},
     "output_type": "execute_result"
    }
   ],
   "source": [
    "str1=input(\"enter the first string:\")\n",
    "str2=input(\"enter the second string:\")\n",
    "mid1=str1[len(str1)//2]\n",
    "mid2=str2[len(str1)//2]\n",
    "new_string=str1[0]+str2[0]+mid1+mid2+str1[-1]+str2[-2]\n",
    "new_string    "
   ]
  },
  {
   "cell_type": "code",
   "execution_count": null,
   "id": "8777c84d",
   "metadata": {},
   "outputs": [],
   "source": [
    "#9)Write a python program to take three names as input from a user in the single input () function call"
   ]
  },
  {
   "cell_type": "code",
   "execution_count": 2,
   "id": "e74676fe",
   "metadata": {},
   "outputs": [
    {
     "name": "stdout",
     "output_type": "stream",
     "text": [
      "enter three inputssurya kiran lax\n",
      "name1: surya\n",
      "name2: kiran\n",
      "name3: lax\n"
     ]
    }
   ],
   "source": [
    "x,y,z=input(\"enter three inputs\").split()\n",
    "print(\"name1:\",x)\n",
    "print(\"name2:\",y)\n",
    "print(\"name3:\",z)"
   ]
  },
  {
   "cell_type": "code",
   "execution_count": null,
   "id": "ebbb7710",
   "metadata": {},
   "outputs": [],
   "source": [
    "# 10) Write a Python program to get a string from a given string where all occurrences of its first char have been changed to '@', except the first char itself."
   ]
  },
  {
   "cell_type": "code",
   "execution_count": 11,
   "id": "ff641976",
   "metadata": {},
   "outputs": [
    {
     "name": "stdout",
     "output_type": "stream",
     "text": [
      "enter name titanic\n",
      "ti$anic\n"
     ]
    }
   ],
   "source": [
    "x = input(\"enter name \")\n",
    "y = x[0]\n",
    "for i in x[1:]:\n",
    "    if i == x[0]:\n",
    "        y+=\"$\"\n",
    "    else:\n",
    "        y+=i\n",
    "print(y)"
   ]
  },
  {
   "cell_type": "code",
   "execution_count": null,
   "id": "ad99be43",
   "metadata": {},
   "outputs": [],
   "source": [
    "# 11) Write a Python program to add 'ing' at the end of a given string (string length should be equal to or more than 3). If the given string already ends with 'ing' then add 'ly' instead. If the string length of the given string is less than 3, leave it unchanged"
   ]
  },
  {
   "cell_type": "code",
   "execution_count": 16,
   "id": "0ee55d5a",
   "metadata": {},
   "outputs": [
    {
     "name": "stdout",
     "output_type": "stream",
     "text": [
      "enter the string play\n",
      "playing\n",
      "enter the string playing \n",
      "playily\n",
      "enter the string to\n",
      "to\n"
     ]
    }
   ],
   "source": [
    "x=1\n",
    "while x<=3:\n",
    "    y=input(\"enter the string \")\n",
    "    if x==1:\n",
    "        z = y+\"ing\"\n",
    "        print(z)\n",
    "    elif x==2:\n",
    "        z= y[0:-3]+\"ly\"\n",
    "        print(z)\n",
    "    else:\n",
    "        print(y)\n",
    "    x=x+1"
   ]
  },
  {
   "cell_type": "code",
   "execution_count": null,
   "id": "c9a2511e",
   "metadata": {},
   "outputs": [],
   "source": [
    "# 12) Write a python program that accepts two inputs num1 and num2 print True if one of them is 10 or if their sum is 10 otherwise print False"
   ]
  },
  {
   "cell_type": "code",
   "execution_count": 18,
   "id": "04ec7309",
   "metadata": {},
   "outputs": [
    {
     "name": "stdout",
     "output_type": "stream",
     "text": [
      "enter any number5\n",
      "enter any number11\n",
      "false\n"
     ]
    }
   ],
   "source": [
    "x=int(input(\"enter any number\"))\n",
    "y=int(input(\"enter any number\"))\n",
    "if (x==10 or y==10) or (x+y==10):\n",
    "    print(\"true\")\n",
    "else:\n",
    "    print(\"false\")"
   ]
  },
  {
   "cell_type": "code",
   "execution_count": 10,
   "id": "d6b00d1c",
   "metadata": {},
   "outputs": [],
   "source": [
    "# 13) Write a python program that accepts three inputs x, y and z print True if x*y>z otherwise False"
   ]
  },
  {
   "cell_type": "code",
   "execution_count": 14,
   "id": "b821cea4",
   "metadata": {},
   "outputs": [
    {
     "name": "stdout",
     "output_type": "stream",
     "text": [
      "enter any number5\n",
      "enter any number5\n",
      "enter any number50\n",
      "False\n"
     ]
    }
   ],
   "source": [
    "x=int(input(\"enter any number\"))\n",
    "y=int(input(\"enter any number\"))\n",
    "z=int(input(\"enter any number\"))\n",
    "if x*y>z:\n",
    "    print(\"True\")\n",
    "else:    \n",
    "    print(\"False\")"
   ]
  },
  {
   "cell_type": "code",
   "execution_count": 15,
   "id": "0cd01304",
   "metadata": {},
   "outputs": [],
   "source": [
    "# 14) Write a python program that accepts two strings inputs return True depending on whether the total number of characters in the first string is equal to the total number of characters in the second string"
   ]
  },
  {
   "cell_type": "code",
   "execution_count": 4,
   "id": "36e587fc",
   "metadata": {},
   "outputs": [
    {
     "name": "stdout",
     "output_type": "stream",
     "text": [
      "enter any number surya\n",
      "enter any number kiran\n",
      "true\n"
     ]
    }
   ],
   "source": [
    "x=(input(\"enter any number \"))\n",
    "y=(input(\"enter any number \"))\n",
    "if len(x)==len(y):\n",
    "    print(\"true\")\n",
    "else:\n",
    "      print(\"false\")"
   ]
  },
  {
   "cell_type": "code",
   "execution_count": 29,
   "id": "48ba278a",
   "metadata": {},
   "outputs": [],
   "source": [
    "# 15)Write a python program that takes a string input, we'll say that the front is the first three characters of the string. If the string length is less than three characters, the front is whatever is there. Return a new string, which is three copies of the front"
   ]
  },
  {
   "cell_type": "code",
   "execution_count": 13,
   "id": "1aeb5ed4",
   "metadata": {},
   "outputs": [
    {
     "name": "stdout",
     "output_type": "stream",
     "text": [
      "enter the string :surya\n",
      " \n",
      " a new string: sur\n",
      " \n",
      "enter the string :to\n",
      " \n",
      " a new string: tototo\n",
      " \n"
     ]
    }
   ],
   "source": [
    "x=1\n",
    "while x<=2:\n",
    "    str1=input(\"enter the string :\")\n",
    "    if len(str1)>=3:\n",
    "        front=str1[0:3]\n",
    "    else:\n",
    "        front=str1*3\n",
    "    print(\" \")\n",
    "    print(\" a new string:\",front)\n",
    "    x=x+1\n",
    "    print(\" \")\n"
   ]
  },
  {
   "cell_type": "code",
   "execution_count": 36,
   "id": "5103cbd4",
   "metadata": {},
   "outputs": [],
   "source": [
    "# 16)Write a python program that takes in a word and determines whether or not it is plural. A plural word is one that ends in \"s\"."
   ]
  },
  {
   "cell_type": "code",
   "execution_count": 14,
   "id": "4d725d58",
   "metadata": {},
   "outputs": [
    {
     "name": "stdout",
     "output_type": "stream",
     "text": [
      "enter the word:says\n",
      " it is plural\n"
     ]
    }
   ],
   "source": [
    "word=input(\"enter the word:\")\n",
    "if word.endswith(\"s\"):\n",
    "    print(\" it is plural\")\n",
    "else:\n",
    "    print(\" it is not plural\")"
   ]
  },
  {
   "cell_type": "code",
   "execution_count": 30,
   "id": "a8fd1ea8",
   "metadata": {},
   "outputs": [],
   "source": [
    "# 20) Create a dynamic calculator which asks for numbers and operator and return the answers"
   ]
  },
  {
   "cell_type": "code",
   "execution_count": 34,
   "id": "f929a449",
   "metadata": {},
   "outputs": [
    {
     "name": "stdout",
     "output_type": "stream",
     "text": [
      "enter any number4\n",
      "enter the symbol :+,-,*,/+\n",
      "enter any number5\n",
      "4+5=9\n",
      "4-5=-1\n",
      "4*5=20\n",
      "4/5=0.8\n"
     ]
    }
   ],
   "source": [
    "x=int(input(\"enter any number\"))\n",
    "y=(input(\"enter the symbol :+,-,*,/\"))\n",
    "z=int(input(\"enter any number\"))\n",
    "print(\"{}+{}={}\".format(x,z,x+z))\n",
    "print(\"{}-{}={}\".format(x,z,x-z))\n",
    "print(\"{}*{}={}\".format(x,z,x*z))\n",
    "print(\"{}/{}={}\".format(x,z,x/z))"
   ]
  }
 ],
 "metadata": {
  "kernelspec": {
   "display_name": "Python 3 (ipykernel)",
   "language": "python",
   "name": "python3"
  },
  "language_info": {
   "codemirror_mode": {
    "name": "ipython",
    "version": 3
   },
   "file_extension": ".py",
   "mimetype": "text/x-python",
   "name": "python",
   "nbconvert_exporter": "python",
   "pygments_lexer": "ipython3",
   "version": "3.11.3"
  }
 },
 "nbformat": 4,
 "nbformat_minor": 5
}
