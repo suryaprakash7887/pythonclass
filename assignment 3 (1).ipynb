{
 "cells": [
  {
   "cell_type": "code",
   "execution_count": 4,
   "id": "d1399ce5",
   "metadata": {},
   "outputs": [
    {
     "name": "stdout",
     "output_type": "stream",
     "text": [
      "0 1 2 4 5 "
     ]
    }
   ],
   "source": [
    "# 1) Write a Python program that prints all the numbers from 0 to 6 except 3 and 6\n",
    "for x in range(6):\n",
    "    if (x == 3 or x==6):\n",
    "        continue\n",
    "    print(x,end=\" \")"
   ]
  },
  {
   "cell_type": "code",
   "execution_count": 12,
   "id": "cb989753",
   "metadata": {},
   "outputs": [],
   "source": [
    "# 2) Write a program to accept a number from a user and calculate the sum of all numbers from 1 to a given number"
   ]
  },
  {
   "cell_type": "code",
   "execution_count": 14,
   "id": "2385935d",
   "metadata": {},
   "outputs": [
    {
     "name": "stdout",
     "output_type": "stream",
     "text": [
      "Number: 1520\n",
      "1155960\n"
     ]
    }
   ],
   "source": [
    " number = int(input(\"Number: \"))\n",
    "sum = 0\n",
    "for i in range(1, number+1):\n",
    "    sum += i\n",
    "print(sum)"
   ]
  },
  {
   "cell_type": "code",
   "execution_count": 13,
   "id": "5d00e8d0",
   "metadata": {},
   "outputs": [],
   "source": [
    "# 3) Write a program to print multiplication table of a given number(input)"
   ]
  },
  {
   "cell_type": "code",
   "execution_count": 1,
   "id": "3c11b0b4",
   "metadata": {},
   "outputs": [
    {
     "name": "stdout",
     "output_type": "stream",
     "text": [
      "enter the number5\n",
      "5 x 1 = 5\n",
      "5 x 2 = 10\n",
      "5 x 3 = 15\n",
      "5 x 4 = 20\n",
      "5 x 5 = 25\n",
      "5 x 6 = 30\n",
      "5 x 7 = 35\n",
      "5 x 8 = 40\n",
      "5 x 9 = 45\n",
      "5 x 10 = 50\n"
     ]
    }
   ],
   "source": [
    "num =int(input(\"enter the number\"))\n",
    "for i in range(1,11):\n",
    "      print(num, 'x', i, '=',num*i)"
   ]
  },
  {
   "cell_type": "code",
   "execution_count": 2,
   "id": "0bd86e16",
   "metadata": {},
   "outputs": [],
   "source": [
    "# 4) Write a program to count the total number of digits in a number using a while loop."
   ]
  },
  {
   "cell_type": "code",
   "execution_count": 13,
   "id": "485e8bca",
   "metadata": {},
   "outputs": [
    {
     "name": "stdout",
     "output_type": "stream",
     "text": [
      "Enter a number: 100000\n",
      " totalNumber of digits  Number :  1\n",
      " totalNumber of digits  Number :  2\n",
      " totalNumber of digits  Number :  3\n",
      " totalNumber of digits  Number :  4\n",
      " totalNumber of digits  Number :  5\n",
      " totalNumber of digits  Number :  6\n"
     ]
    }
   ],
   "source": [
    "count = 0\n",
    "number = int(input(\"Enter a number: \"))\n",
    "while number > 0:\n",
    "    number = number // 10\n",
    "    count = count + 1\n",
    "    print(\" totalNumber of digits  Number : \",count)"
   ]
  },
  {
   "cell_type": "code",
   "execution_count": 15,
   "id": "5816a138",
   "metadata": {},
   "outputs": [],
   "source": [
    "# 5)Write a Python program to guess a number between 1 to"
   ]
  },
  {
   "cell_type": "code",
   "execution_count": null,
   "id": "b0d6ed53",
   "metadata": {},
   "outputs": [],
   "source": [
    "x=2\n",
    "while x>5:\n",
    "    guess= int(input(\"enter any number\"))\n",
    "    if guess!=5:\n",
    "        print(\"wromg guess\")\n",
    "    else: \n",
    "        x=x+1\n",
    "        print(\" not well guess\")"
   ]
  },
  {
   "cell_type": "code",
   "execution_count": null,
   "id": "cdc3f31f",
   "metadata": {},
   "outputs": [],
   "source": [
    "x=6\n",
    "while x>5:\n",
    "    guess= int(input(\"enter any number\"))\n",
    "    if guess !=5:\n",
    "        print(\"wrong guess\")\n",
    "    else: \n",
    "        guess==\n",
    "        x=x+1\n",
    "        print(\" well guess\")"
   ]
  },
  {
   "cell_type": "code",
   "execution_count": null,
   "id": "cb3c2aba",
   "metadata": {},
   "outputs": [],
   "source": [
    "# 6) Write a Python program which iterates the integers from 1 to 60. For multiples of three print \"Fizz\" instead of the number and for the multiples of five print \"Buzz\". For numbers which are multiples of both three and five print \"FizzBuzz\"."
   ]
  },
  {
   "cell_type": "code",
   "execution_count": 10,
   "id": "0352a0d7",
   "metadata": {},
   "outputs": [
    {
     "name": "stdout",
     "output_type": "stream",
     "text": [
      "1\n",
      "2\n",
      "fizz\n",
      "4\n",
      "buzz\n",
      "fizz\n",
      "7\n",
      "8\n",
      "fizz\n",
      "buzz\n",
      "11\n",
      "fizz\n",
      "13\n",
      "14\n",
      "fizzbuzz\n",
      "16\n",
      "17\n",
      "fizz\n",
      "19\n",
      "buzz\n",
      "fizz\n",
      "22\n",
      "23\n",
      "fizz\n",
      "buzz\n",
      "26\n",
      "fizz\n",
      "28\n",
      "29\n",
      "fizzbuzz\n",
      "31\n",
      "32\n",
      "fizz\n",
      "34\n",
      "buzz\n",
      "fizz\n",
      "37\n",
      "38\n",
      "fizz\n",
      "buzz\n",
      "41\n",
      "fizz\n",
      "43\n",
      "44\n",
      "fizzbuzz\n",
      "46\n",
      "47\n",
      "fizz\n",
      "49\n",
      "buzz\n",
      "fizz\n",
      "52\n",
      "53\n",
      "fizz\n",
      "buzz\n",
      "56\n",
      "fizz\n",
      "58\n",
      "59\n",
      "fizzbuzz\n"
     ]
    }
   ],
   "source": [
    "    for fizzbuzz in range(1,61):\n",
    "        if fizzbuzz % 3 == 0 and fizzbuzz % 5 == 0:\n",
    "            print(\"fizzbuzz\")\n",
    "            continue\n",
    "        elif fizzbuzz % 3 == 0:\n",
    "            print(\"fizz\")\n",
    "            continue\n",
    "        elif fizzbuzz % 5 == 0:\n",
    "            print(\"buzz\")\n",
    "            continue\n",
    "        print(fizzbuzz)"
   ]
  },
  {
   "cell_type": "code",
   "execution_count": 6,
   "id": "49a10473",
   "metadata": {},
   "outputs": [],
   "source": [
    "# 7) Write a Python program that accepts a string and calculate the number of digits and letters"
   ]
  },
  {
   "cell_type": "code",
   "execution_count": 12,
   "id": "42e27a9e",
   "metadata": {},
   "outputs": [
    {
     "name": "stdout",
     "output_type": "stream",
     "text": [
      "Input a string: suryachinni143\n",
      "Letters 11\n",
      "Digits 3\n"
     ]
    }
   ],
   "source": [
    "str = input(\"Input a string: \")\n",
    "d=l=0\n",
    "for y in str:\n",
    "    if y.isdigit():\n",
    "        d=d+1\n",
    "    elif y.isalpha():\n",
    "        l=l+1\n",
    "    else:\n",
    "        pass\n",
    "print(\"Letters\", l)\n",
    "print(\"Digits\", d)\n",
    " "
   ]
  },
  {
   "cell_type": "code",
   "execution_count": null,
   "id": "db8c156d",
   "metadata": {},
   "outputs": [],
   "source": [
    "# 9) Write a program in Python to reverse a word by using while loop"
   ]
  },
  {
   "cell_type": "code",
   "execution_count": 1,
   "id": "b789dec7",
   "metadata": {},
   "outputs": [
    {
     "name": "stdout",
     "output_type": "stream",
     "text": [
      "enter the word: surya\n",
      "the reversed word is: ayrus\n"
     ]
    }
   ],
   "source": [
    "word=input(\"enter the word: \")\n",
    "reverse=\"\"\n",
    "while len(word)>0:\n",
    "        char=word[-1]\n",
    "        word=word[0:-1]\n",
    "        reverse=reverse+char\n",
    "print(\"the reversed word is:\",reverse)\n"
   ]
  },
  {
   "cell_type": "code",
   "execution_count": null,
   "id": "07835662",
   "metadata": {},
   "outputs": [],
   "source": [
    "# 10) 10) Write a program which takes 10 integers as input using loop and print their average value on the screen"
   ]
  },
  {
   "cell_type": "code",
   "execution_count": 2,
   "id": "f50eab32",
   "metadata": {},
   "outputs": [
    {
     "name": "stdout",
     "output_type": "stream",
     "text": [
      "enter the number: 1\n",
      "enter the number: 2\n",
      "enter the number: 3\n",
      "enter the number: 4\n",
      "enter the number: 5\n",
      "enter the number: 6\n",
      "enter the number: 7\n",
      "enter the number: 8\n",
      "enter the number: 9\n",
      "enter the number: 10\n",
      " \n",
      "the average is:  5.5\n"
     ]
    }
   ],
   "source": [
    "x=1\n",
    "sum1=0\n",
    "while x<=10:\n",
    "    num=int(input(\"enter the number: \"))\n",
    "    sum1=sum1+num\n",
    "    x=x+1\n",
    "print(\" \")\n",
    "print(\"the average is: \",sum1/10)"
   ]
  },
  {
   "cell_type": "code",
   "execution_count": null,
   "id": "d7b9abbc",
   "metadata": {},
   "outputs": [],
   "source": [
    "# 11) Write a program which takes integer inputs from user until he/she presses “q” (Ask to press q to quit after every integer input). Print average and product of all numbers."
   ]
  },
  {
   "cell_type": "code",
   "execution_count": 3,
   "id": "e5b89ddc",
   "metadata": {},
   "outputs": [
    {
     "name": "stdout",
     "output_type": "stream",
     "text": [
      "enter the number: 21\n",
      "want to quit: 14\n",
      "enter the number: 9\n",
      "want to quit: q\n",
      " \n",
      "the average is:  15.0\n",
      " \n",
      "the product is:  189\n"
     ]
    }
   ],
   "source": [
    "sum1=0\n",
    "prod1=1\n",
    "count=0\n",
    "while 21>16:\n",
    "    num=int(input(\"enter the number: \"))\n",
    "    sum1=sum1+num\n",
    "    prod1=prod1*num\n",
    "    count=count+1\n",
    "    quit=input(\"want to quit: \")\n",
    "    if quit==\"q\":\n",
    "        break\n",
    "print(\" \")\n",
    "print(\"the average is: \",sum1/count)\n",
    "print(\" \")\n",
    "print(\"the product is: \",prod1)\n"
   ]
  },
  {
   "cell_type": "code",
   "execution_count": null,
   "id": "d734811d",
   "metadata": {},
   "outputs": [],
   "source": [
    "# 12)Write a Python program which will remove all digits or any other characters from the string except alphabets"
   ]
  },
  {
   "cell_type": "code",
   "execution_count": 4,
   "id": "6af3b625",
   "metadata": {},
   "outputs": [
    {
     "name": "stdout",
     "output_type": "stream",
     "text": [
      "enter the string: Surya \n",
      "Surya"
     ]
    }
   ],
   "source": [
    "str1=input(\"enter the string: \")\n",
    "for i in str1:\n",
    "    if i.isalpha():\n",
    "        print(i,end=\"\")\n"
   ]
  },
  {
   "cell_type": "code",
   "execution_count": 5,
   "id": "51c809b5",
   "metadata": {},
   "outputs": [],
   "source": [
    "# 13) Write a python program to find the sum of all even numbers from 0 to 10"
   ]
  },
  {
   "cell_type": "code",
   "execution_count": 7,
   "id": "7b2107f0",
   "metadata": {},
   "outputs": [
    {
     "name": "stdout",
     "output_type": "stream",
     "text": [
      "enter the first number: 0\n",
      "enter the second number: 10\n",
      "0 2 4 6 8  \n",
      "the sum is: 20\n"
     ]
    }
   ],
   "source": [
    "num1=int(input(\"enter the first number: \"))\n",
    "num2=int(input(\"enter the second number: \"))\n",
    "sum1=0\n",
    "for y in range(num1,num2):\n",
    "    if y%2!=0:\n",
    "        continue\n",
    "    sum1=sum1+y\n",
    "    print(y,end=\" \")\n",
    "print(\" \")\n",
    "print(\"the sum is:\",sum1)"
   ]
  },
  {
   "cell_type": "code",
   "execution_count": 8,
   "id": "d334e6fc",
   "metadata": {},
   "outputs": [],
   "source": [
    "# 14) Write a python program which will accept a digit and print All the numbers before it till 0"
   ]
  },
  {
   "cell_type": "code",
   "execution_count": 9,
   "id": "16220f3d",
   "metadata": {},
   "outputs": [
    {
     "name": "stdout",
     "output_type": "stream",
     "text": [
      "enter the digit: 9\n",
      "8\n",
      "7\n",
      "6\n",
      "5\n",
      "4\n",
      "3\n",
      "2\n",
      "1\n",
      "0\n"
     ]
    }
   ],
   "source": [
    "digit=int(input(\"enter the digit: \"))\n",
    "while digit>=1:\n",
    "    digit=digit-1\n",
    "    print(digit)"
   ]
  },
  {
   "cell_type": "code",
   "execution_count": 10,
   "id": "8c7ca366",
   "metadata": {},
   "outputs": [],
   "source": [
    "# 15) Create a dynamic calculator which will run continually till you press “c”"
   ]
  },
  {
   "cell_type": "code",
   "execution_count": 11,
   "id": "6790698f",
   "metadata": {},
   "outputs": [
    {
     "name": "stdout",
     "output_type": "stream",
     "text": [
      "enter the number: 2\n",
      "enter the symbol: +\n",
      "enter the number: 3\n",
      "2+3=5\n",
      "want to quit: c\n"
     ]
    }
   ],
   "source": [
    "x=5\n",
    "while x<10:\n",
    "    x=int(input(\"enter the number: \"))\n",
    "    symbol=input(\"enter the symbol: \")\n",
    "    y=int(input(\"enter the number: \"))\n",
    "    if symbol==\"-\":\n",
    "        print(\"{}-{}={}\".format(x,y,x-y))\n",
    "    elif symbol==\"*\":\n",
    "        print(\"{}*{}={}\".format(x,y,x*y))\n",
    "    elif symbol==\"+\":\n",
    "        print(\"{}+{}={}\".format(x,y,x+y))\n",
    "    else:\n",
    "        print(\"{}/{}={}\".format(x,y,x/y))\n",
    "    k=input(\"want to quit: \")\n",
    "    if k==\"c\":\n",
    "        break"
   ]
  },
  {
   "cell_type": "code",
   "execution_count": null,
   "id": "e809d62c",
   "metadata": {},
   "outputs": [],
   "source": []
  }
 ],
 "metadata": {
  "kernelspec": {
   "display_name": "Python 3 (ipykernel)",
   "language": "python",
   "name": "python3"
  },
  "language_info": {
   "codemirror_mode": {
    "name": "ipython",
    "version": 3
   },
   "file_extension": ".py",
   "mimetype": "text/x-python",
   "name": "python",
   "nbconvert_exporter": "python",
   "pygments_lexer": "ipython3",
   "version": "3.11.3"
  }
 },
 "nbformat": 4,
 "nbformat_minor": 5
}
