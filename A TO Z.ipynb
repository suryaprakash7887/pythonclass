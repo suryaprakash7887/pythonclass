{
 "cells": [
  {
   "cell_type": "code",
   "execution_count": 68,
   "id": "3a9bb206",
   "metadata": {},
   "outputs": [
    {
     "name": "stdout",
     "output_type": "stream",
     "text": [
      " *******\n",
      "*       *\n",
      "* * * * *\n",
      "*       *\n",
      "*       *\n"
     ]
    }
   ],
   "source": [
    "x=1\n",
    "while x<=5:\n",
    "    if x==1:\n",
    "        print(\" *******\")\n",
    "    elif x==2 or x==4 or x==5:\n",
    "        print(\"*       *\")\n",
    "    else:\n",
    "        print(\"* * * * *\")\n",
    "    x=x+1\n",
    "            "
   ]
  },
  {
   "cell_type": "code",
   "execution_count": 6,
   "id": "86c967c0",
   "metadata": {},
   "outputs": [
    {
     "name": "stdout",
     "output_type": "stream",
     "text": [
      "*****\n",
      "*    *\n",
      "*****\n",
      "*    *\n",
      "*****\n"
     ]
    }
   ],
   "source": [
    "x=1\n",
    "while x<=5:\n",
    "    if x==1 or x==3 or x==5:\n",
    "        print(\"*****\")\n",
    "    elif x==2 or x==4:\n",
    "        print(\"*    *\")\n",
    "    x=x+1"
   ]
  },
  {
   "cell_type": "code",
   "execution_count": 9,
   "id": "10e1efd6",
   "metadata": {},
   "outputs": [
    {
     "name": "stdout",
     "output_type": "stream",
     "text": [
      "*****\n",
      "*\n",
      "*\n",
      "*\n",
      "*****\n"
     ]
    }
   ],
   "source": [
    "x=1\n",
    "while x<=5:\n",
    "    if x==1 or x==5:\n",
    "        print(\"*****\")\n",
    "    elif x==2 or x==3 or x==4:\n",
    "        print(\"*\")\n",
    "    x=x+1"
   ]
  },
  {
   "cell_type": "code",
   "execution_count": 32,
   "id": "9feed63f",
   "metadata": {},
   "outputs": [
    {
     "name": "stdout",
     "output_type": "stream",
     "text": [
      "*****\n",
      "*    *\n",
      "*    *\n",
      "*    *\n",
      "*****\n"
     ]
    }
   ],
   "source": [
    "x=1\n",
    "while x<=5:\n",
    "    if x==1 or x==5:\n",
    "        print(\"*****\")\n",
    "    elif x==2 or x==3 or x==4:\n",
    "        print(\"*    *\")\n",
    "    x=x+1"
   ]
  },
  {
   "cell_type": "code",
   "execution_count": 17,
   "id": "c74a6fa7",
   "metadata": {},
   "outputs": [
    {
     "name": "stdout",
     "output_type": "stream",
     "text": [
      "*****\n",
      "*    \n",
      "*****\n",
      "*    \n",
      "*****\n"
     ]
    }
   ],
   "source": [
    "x=1\n",
    "while x<=5:\n",
    "    if x==1 or x==3 or x==5:\n",
    "        print(\"*****\")\n",
    "    elif x==2 or  x==4:\n",
    "        print(\"*    \")\n",
    "    x=x+1"
   ]
  },
  {
   "cell_type": "code",
   "execution_count": 19,
   "id": "3201084d",
   "metadata": {},
   "outputs": [
    {
     "name": "stdout",
     "output_type": "stream",
     "text": [
      "*****\n",
      "*    \n",
      "*****\n",
      "*    \n",
      "*    \n"
     ]
    }
   ],
   "source": [
    "x=1\n",
    "while x<=5:\n",
    "    if x==1 or x==3 :\n",
    "        print(\"*****\")\n",
    "    elif x==2 or  x==4 or x==5:\n",
    "        print(\"*    \")\n",
    "    x=x+1"
   ]
  },
  {
   "cell_type": "code",
   "execution_count": 25,
   "id": "2dbe9c0b",
   "metadata": {},
   "outputs": [
    {
     "name": "stdout",
     "output_type": "stream",
     "text": [
      "*****\n",
      "*    \n",
      "*  ***\n",
      "*    *\n",
      "*****\n"
     ]
    }
   ],
   "source": [
    "x=1\n",
    "while x<=5:\n",
    "    if x==1 or x==5:\n",
    "        print(\"*****\")\n",
    "    elif x==2:\n",
    "        print(\"*    \")\n",
    "    elif x==3:\n",
    "        print(\"*  ***\")\n",
    "    elif x==4:\n",
    "        print(\"*    *\")\n",
    "            \n",
    "    x=x+1 "
   ]
  },
  {
   "cell_type": "code",
   "execution_count": 30,
   "id": "53ae510b",
   "metadata": {},
   "outputs": [
    {
     "name": "stdout",
     "output_type": "stream",
     "text": [
      "*   *\n",
      "*   *\n",
      "*****\n",
      "*   *\n",
      "*   *\n"
     ]
    }
   ],
   "source": [
    "x=1\n",
    "while x<=5:\n",
    "    if x==1 or x==2 or x==4 or x==5:\n",
    "        print(\"*   *\")\n",
    "    elif x==3:\n",
    "        print(\"*****\")\n",
    "    x=x+1 "
   ]
  },
  {
   "cell_type": "code",
   "execution_count": 38,
   "id": "1b40795b",
   "metadata": {},
   "outputs": [
    {
     "name": "stdout",
     "output_type": "stream",
     "text": [
      "*****\n",
      "  *  \n",
      "  *  \n",
      "  *  \n",
      "*****\n"
     ]
    }
   ],
   "source": [
    "x=1\n",
    "while x<=5:\n",
    "    if x==1 or x==5:\n",
    "        print(\"*****\")\n",
    "    elif x==2 or x==3 or x==4:\n",
    "        print(\"  *  \")\n",
    "    x=x+1 "
   ]
  },
  {
   "cell_type": "code",
   "execution_count": 48,
   "id": "a8203a61",
   "metadata": {},
   "outputs": [
    {
     "name": "stdout",
     "output_type": "stream",
     "text": [
      "******\n",
      "   *   \n",
      "   *   \n",
      "*  *\n",
      "  **   \n"
     ]
    }
   ],
   "source": [
    "x=1\n",
    "while x<=5:\n",
    "    if x==1:\n",
    "        print(\"******\")\n",
    "    elif x==2 or x==3:\n",
    "        print(\"   *   \")\n",
    "    elif x==4:\n",
    "        print(\"*  *\")\n",
    "    elif x==5:\n",
    "        print(\"  **   \")\n",
    "        \n",
    "    x=x+1 "
   ]
  },
  {
   "cell_type": "code",
   "execution_count": 53,
   "id": "774dfc1b",
   "metadata": {},
   "outputs": [
    {
     "name": "stdout",
     "output_type": "stream",
     "text": [
      "*     *\n",
      "*   * \n",
      "* * \n",
      "*   * \n",
      "*     *\n"
     ]
    }
   ],
   "source": [
    "x=1\n",
    "while x<=5:\n",
    "    if x==1 or  x==5:\n",
    "        print(\"*     *\")\n",
    "    elif x==2 or x==4: \n",
    "        print(\"*   * \")\n",
    "    elif x==3:\n",
    "        print(\"* * \")\n",
    "    x=x+1 "
   ]
  },
  {
   "cell_type": "code",
   "execution_count": 56,
   "id": "d128d259",
   "metadata": {},
   "outputs": [
    {
     "name": "stdout",
     "output_type": "stream",
     "text": [
      "*\n",
      "*\n",
      "*\n",
      "*\n",
      "* * * * *\n"
     ]
    }
   ],
   "source": [
    "x=1\n",
    "while x<=5:\n",
    "    if x==1 or x==2 or x==3 or x==4:\n",
    "        print(\"*\")\n",
    "    elif x==5: \n",
    "        print(\"* * * * *\")\n",
    "    x=x+1 "
   ]
  },
  {
   "cell_type": "code",
   "execution_count": 63,
   "id": "8fff4176",
   "metadata": {},
   "outputs": [
    {
     "name": "stdout",
     "output_type": "stream",
     "text": [
      "*       *\n",
      "* *   * *\n",
      "*   *   *\n",
      "*       *\n",
      "*       *\n"
     ]
    }
   ],
   "source": [
    "x=1\n",
    "while x<=5:\n",
    "    if x==1 or  x==4 or x==5:\n",
    "        print(\"*       *\")\n",
    "    elif x==2:\n",
    "        print(\"* *   * *\")\n",
    "    elif x==3:\n",
    "        print(\"*   *   *\")\n",
    "    x=x+1 "
   ]
  },
  {
   "cell_type": "code",
   "execution_count": 66,
   "id": "fe7500a8",
   "metadata": {},
   "outputs": [
    {
     "name": "stdout",
     "output_type": "stream",
     "text": [
      "*       *\n",
      "* *     *\n",
      "*   *   *\n",
      "*     * *\n",
      "*       *\n"
     ]
    }
   ],
   "source": [
    "x=1\n",
    "while x<=5:\n",
    "    if x==1 or x==5:\n",
    "        print(\"*       *\")\n",
    "    elif x==2:\n",
    "        print(\"* *     *\")\n",
    "    elif x==3:\n",
    "        print(\"*   *   *\")\n",
    "    elif x==4: \n",
    "        print(\"*     * *\")\n",
    "    x=x+1 "
   ]
  },
  {
   "cell_type": "code",
   "execution_count": 69,
   "id": "eb23b870",
   "metadata": {},
   "outputs": [
    {
     "name": "stdout",
     "output_type": "stream",
     "text": [
      " ***** \n",
      "*     *\n",
      "*     *\n",
      "*     *\n",
      " ***** \n"
     ]
    }
   ],
   "source": [
    "x=1\n",
    "while x<=5:\n",
    "    if x==1 or x==5:\n",
    "        print(\" ***** \")\n",
    "    elif x==2 or x==3 or x==4:\n",
    "        print(\"*     *\")\n",
    "    x=x+1"
   ]
  },
  {
   "cell_type": "code",
   "execution_count": 74,
   "id": "fa99d161",
   "metadata": {},
   "outputs": [
    {
     "name": "stdout",
     "output_type": "stream",
     "text": [
      "* * *\n",
      "*    *\n",
      "* * *\n",
      "*\n",
      "*\n"
     ]
    }
   ],
   "source": [
    "x=1\n",
    "while x<=5:\n",
    "    if x==1 or x==3 :\n",
    "        print(\"* * *\")\n",
    "    elif x==4 or x==5:\n",
    "        print(\"*\")\n",
    "    elif x==2:\n",
    "        print(\"*    *\")\n",
    "    x=x+1"
   ]
  },
  {
   "cell_type": "code",
   "execution_count": 103,
   "id": "2d60e050",
   "metadata": {},
   "outputs": [
    {
     "name": "stdout",
     "output_type": "stream",
     "text": [
      " * * * * \n",
      "*        * \n",
      "*    *   * \n",
      "*      * * \n",
      " * * * * *\n",
      "           *\n"
     ]
    }
   ],
   "source": [
    "x=1\n",
    "while x<=6:\n",
    "    if x==1:\n",
    "        print(\" * * * * \") \n",
    "    elif x==5: \n",
    "        print(\" * * * * *\")\n",
    "    elif x==2:\n",
    "        print(\"*        * \")\n",
    "    elif x==3:\n",
    "        print(\"*    *   * \")\n",
    "    elif x==4:\n",
    "        print(\"*      * * \")\n",
    "    else :\n",
    "        print(\"           *\")\n",
    "    x=x+1"
   ]
  },
  {
   "cell_type": "code",
   "execution_count": 108,
   "id": "891ac70b",
   "metadata": {},
   "outputs": [
    {
     "name": "stdout",
     "output_type": "stream",
     "text": [
      "* * *\n",
      "*    *\n",
      "* * *\n",
      "* *\n",
      "*    *\n"
     ]
    }
   ],
   "source": [
    "x=1\n",
    "while x<=6:\n",
    "    if x==1 or x==3 :\n",
    "        print(\"* * *\")\n",
    "    elif x==2:\n",
    "        print(\"*    *\")\n",
    "    elif x==4 :\n",
    "        print(\"* *\")\n",
    "    elif x==5:\n",
    "        print(\"*    *\")\n",
    "    x=x+1"
   ]
  },
  {
   "cell_type": "code",
   "execution_count": 109,
   "id": "c3791a24",
   "metadata": {},
   "outputs": [
    {
     "name": "stdout",
     "output_type": "stream",
     "text": [
      "* * *\n",
      "*    \n",
      "* * *\n",
      "    *\n",
      "* * *\n"
     ]
    }
   ],
   "source": [
    "x=1\n",
    "while x<=6:\n",
    "    if x==1 or x==3 or x==5 :\n",
    "        print(\"* * *\")\n",
    "    elif x==2:\n",
    "        print(\"*    \")\n",
    "    elif x==4 :\n",
    "        print(\"    *\")\n",
    "    x=x+1"
   ]
  },
  {
   "cell_type": "code",
   "execution_count": 115,
   "id": "5b488be8",
   "metadata": {
    "scrolled": true
   },
   "outputs": [
    {
     "name": "stdout",
     "output_type": "stream",
     "text": [
      " + + + + + \n",
      "     *     \n",
      "     *     \n",
      "     *     \n",
      "     *     \n"
     ]
    }
   ],
   "source": [
    "x=1\n",
    "while x<=6:\n",
    "    if x==1 :\n",
    "        print(\" + + + + + \")\n",
    "    elif x==2 or x==3 or x==4 or x==5 :\n",
    "        print(\"     *     \")\n",
    "    x=x+1"
   ]
  },
  {
   "cell_type": "code",
   "execution_count": 120,
   "id": "a9086b27",
   "metadata": {},
   "outputs": [
    {
     "name": "stdout",
     "output_type": "stream",
     "text": [
      "*       *\n",
      "*       *\n",
      "*       *\n",
      "*       *\n",
      " * *** * \n"
     ]
    }
   ],
   "source": [
    "x=1\n",
    "while x<=6:\n",
    "    if x==1 or x==2 or x==3 or x==4 :\n",
    "        print(\"*       *\")\n",
    "    elif x==5 :\n",
    "        print(\" * *** * \")\n",
    "    x=x+1"
   ]
  },
  {
   "cell_type": "code",
   "execution_count": 122,
   "id": "c42fe0c7",
   "metadata": {},
   "outputs": [
    {
     "name": "stdout",
     "output_type": "stream",
     "text": [
      "*        *\n",
      "  *    *  \n",
      "     *    \n"
     ]
    }
   ],
   "source": [
    "x=1\n",
    "while x<=6:\n",
    "    if x==1 :\n",
    "        print(\"*        *\")\n",
    "    elif x==2 :\n",
    "        print(\"  *    *  \")\n",
    "    elif x==3 :\n",
    "        print(\"     *    \")\n",
    "    x=x+1"
   ]
  },
  {
   "cell_type": "code",
   "execution_count": 125,
   "id": "61253652",
   "metadata": {},
   "outputs": [
    {
     "name": "stdout",
     "output_type": "stream",
     "text": [
      "*         *\n",
      "*         *\n",
      "*    *    *\n",
      "*  *   *  *\n",
      "*         *\n"
     ]
    }
   ],
   "source": [
    "x=1\n",
    "while x<=6:\n",
    "    if x==1 or  x==2 or  x==5 :\n",
    "        print(\"*         *\")\n",
    "    elif x==4 :\n",
    "        print(\"*  *   *  *\")\n",
    "    elif x==3 :\n",
    "        print(\"*    *    *\")\n",
    "    x=x+1"
   ]
  },
  {
   "cell_type": "code",
   "execution_count": 132,
   "id": "112b8a01",
   "metadata": {},
   "outputs": [
    {
     "name": "stdout",
     "output_type": "stream",
     "text": [
      "*         *\n",
      "   *   *   \n",
      "     *     \n",
      "   *    *  \n",
      "*         *\n"
     ]
    }
   ],
   "source": [
    "x=1\n",
    "while x<=6:\n",
    "    if x==1 or x==5 :\n",
    "        print(\"*         *\")\n",
    "    elif x==2 :\n",
    "        print(\"   *   *   \")\n",
    "    elif x==3 :\n",
    "        print(\"     *     \")\n",
    "    elif x==4:\n",
    "        print(\"   *    *  \")\n",
    "    x=x+1"
   ]
  },
  {
   "cell_type": "code",
   "execution_count": 134,
   "id": "c4c1923d",
   "metadata": {},
   "outputs": [
    {
     "name": "stdout",
     "output_type": "stream",
     "text": [
      "*         *\n",
      "   *   *   \n",
      "     *     \n",
      "     *     \n",
      "     *     \n"
     ]
    }
   ],
   "source": [
    "x=1\n",
    "while x<=5:\n",
    "    if x==1 :\n",
    "        print(\"*         *\")\n",
    "    elif x==2 :\n",
    "        print(\"   *   *   \")\n",
    "    elif x==3 or x==4 or x==5 :\n",
    "        print(\"     *     \")\n",
    "    x=x+1"
   ]
  },
  {
   "cell_type": "code",
   "execution_count": 140,
   "id": "d1184a12",
   "metadata": {},
   "outputs": [
    {
     "name": "stdout",
     "output_type": "stream",
     "text": [
      "* * * * *\n",
      "      *\n",
      "    *  \n",
      " *    \n",
      "* * * * *\n"
     ]
    }
   ],
   "source": [
    "x=1\n",
    "while x<=5:\n",
    "    if x==1 or  x==5 :\n",
    "        print(\"* * * * *\")\n",
    "    elif x==2 :\n",
    "        print(\"      *\")\n",
    "    elif x==3:\n",
    "        print(\"    *  \")\n",
    "    elif x==4:\n",
    "        print(\" *    \")\n",
    "    x=x+1"
   ]
  },
  {
   "cell_type": "code",
   "execution_count": null,
   "id": "3353869c",
   "metadata": {},
   "outputs": [],
   "source": []
  }
 ],
 "metadata": {
  "kernelspec": {
   "display_name": "Python 3 (ipykernel)",
   "language": "python",
   "name": "python3"
  },
  "language_info": {
   "codemirror_mode": {
    "name": "ipython",
    "version": 3
   },
   "file_extension": ".py",
   "mimetype": "text/x-python",
   "name": "python",
   "nbconvert_exporter": "python",
   "pygments_lexer": "ipython3",
   "version": "3.11.3"
  }
 },
 "nbformat": 4,
 "nbformat_minor": 5
}
