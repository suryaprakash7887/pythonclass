{
 "cells": [
  {
   "cell_type": "code",
   "execution_count": 1,
   "id": "f0aeaf20",
   "metadata": {},
   "outputs": [],
   "source": [
    "# 1). Write a Python program to loop through all the elements in a list\n"
   ]
  },
  {
   "cell_type": "code",
   "execution_count": 6,
   "id": "f453a41d",
   "metadata": {},
   "outputs": [
    {
     "name": "stdout",
     "output_type": "stream",
     "text": [
      "enter any list :surya\n",
      "s\n",
      "u\n",
      "r\n",
      "y\n",
      "a\n"
     ]
    }
   ],
   "source": [
    "list_0=list(input(\"enter any list :\"))\n",
    "for i in list_0:\n",
    "        print(i)\n",
    "        "
   ]
  },
  {
   "cell_type": "code",
   "execution_count": 7,
   "id": "6cf6770b",
   "metadata": {},
   "outputs": [],
   "source": [
    "#2). Write a Python program where you will ask the users to insert elements in a list"
   ]
  },
  {
   "cell_type": "code",
   "execution_count": 12,
   "id": "a41d1b9a",
   "metadata": {},
   "outputs": [
    {
     "name": "stdout",
     "output_type": "stream",
     "text": [
      "enter the input:surya\n",
      "['s', 'u', 'r', 'y', 'a']\n"
     ]
    }
   ],
   "source": [
    "list1=[]\n",
    "x=input(\"enter the input:\")\n",
    "for i in range(len(x)):\n",
    "    list1.append(x[i])\n",
    "print(list1)"
   ]
  },
  {
   "cell_type": "code",
   "execution_count": 9,
   "id": "e07820a8",
   "metadata": {},
   "outputs": [],
   "source": [
    "#3). Write a Python program to remove all the odd index value from a list and only even index elements should remain"
   ]
  },
  {
   "cell_type": "code",
   "execution_count": 13,
   "id": "f4961e86",
   "metadata": {},
   "outputs": [
    {
     "name": "stdout",
     "output_type": "stream",
     "text": [
      "enter the input:surya\n",
      "sra"
     ]
    }
   ],
   "source": [
    "list1=list(input(\"enter the input:\"))\n",
    "for i in range(len(list1)):\n",
    "    if i%2==0 :\n",
    "        print(list1[i],end=\"\")"
   ]
  },
  {
   "cell_type": "code",
   "execution_count": 14,
   "id": "01b869f0",
   "metadata": {},
   "outputs": [],
   "source": [
    "# 4). Write a Python program to sum and multiply all the items in a list"
   ]
  },
  {
   "cell_type": "code",
   "execution_count": 7,
   "id": "b0207052",
   "metadata": {},
   "outputs": [
    {
     "name": "stdout",
     "output_type": "stream",
     "text": [
      "enter the elements: 1 2 3 4 5\n",
      " \n",
      "sum of the list:- 15\n",
      " \n",
      "multiplication of the list:- 120\n"
     ]
    }
   ],
   "source": [
    "sum=0\n",
    "prod=1\n",
    "list1=(input(\"enter the elements: \").split())\n",
    "for x in list1:\n",
    "    sum=sum+int(x)\n",
    "    prod=prod*int(x)\n",
    "print(\" \")\n",
    "print(\"sum of the list:-\",sum)\n",
    "print(\" \")\n",
    "print(\"multiplication of the list:-\",prod)              "
   ]
  },
  {
   "cell_type": "code",
   "execution_count": 8,
   "id": "cac3c548",
   "metadata": {},
   "outputs": [],
   "source": [
    "# 5). Write a Python program to get the maximum and minimum numbers from a list\n"
   ]
  },
  {
   "cell_type": "code",
   "execution_count": 13,
   "id": "7541f678",
   "metadata": {},
   "outputs": [
    {
     "name": "stdout",
     "output_type": "stream",
     "text": [
      "enter the number:1  4 5 7 3 4 0 \n",
      " \n",
      " max 7\n",
      " min 0\n"
     ]
    }
   ],
   "source": [
    "list1=(input(\"enter the number:\").split())\n",
    "if len(list1)>0:\n",
    "    list1.sort()\n",
    "    print(\" \")\n",
    "    print(\" max\",list1[-1])\n",
    "    print(\" min\",list1[0])"
   ]
  },
  {
   "cell_type": "code",
   "execution_count": null,
   "id": "cd7ea990",
   "metadata": {},
   "outputs": [],
   "source": [
    "#6) Write a Python program to print a specified list after removing the 0th, 4th and 5th elements."
   ]
  },
  {
   "cell_type": "code",
   "execution_count": 16,
   "id": "1f555d34",
   "metadata": {},
   "outputs": [
    {
     "name": "stdout",
     "output_type": "stream",
     "text": [
      "enter the number:1 2 3 4 5 6 7 8  9\n",
      "\n",
      "['2', '3', '4', '7', '8', '9']\n"
     ]
    }
   ],
   "source": [
    "list1=(input(\"enter the number:\").split())\n",
    "specified_list=[]\n",
    "for i in list1:\n",
    "    if list1.index(i)==0 or list1.index(i)==4 or list1.index(i)==5:\n",
    "        continue\n",
    "    else:\n",
    "        specified_list.append(i)\n",
    "print(\"\")\n",
    "print(specified_list)"
   ]
  },
  {
   "cell_type": "code",
   "execution_count": 17,
   "id": "7f017d0f",
   "metadata": {},
   "outputs": [],
   "source": [
    "#7) Write a Python program to convert a list of characters into a string"
   ]
  },
  {
   "cell_type": "code",
   "execution_count": 19,
   "id": "210ad1f0",
   "metadata": {},
   "outputs": [
    {
     "name": "stdout",
     "output_type": "stream",
     "text": [
      "enter the number:s u r y a p r a k a s h \n",
      "\n",
      "string is suryaprakash\n"
     ]
    }
   ],
   "source": [
    "list1=(input(\"enter the number:\").split())\n",
    "string=\"\"\n",
    "for x in list1:\n",
    "    string=string+x\n",
    "print(\"\")\n",
    "print(\"string is\",string)   "
   ]
  },
  {
   "cell_type": "code",
   "execution_count": 20,
   "id": "ee4fc2c8",
   "metadata": {},
   "outputs": [],
   "source": [
    "# 8). Write a Python program to compute average of given lists."
   ]
  },
  {
   "cell_type": "code",
   "execution_count": 21,
   "id": "bd26470b",
   "metadata": {},
   "outputs": [
    {
     "name": "stdout",
     "output_type": "stream",
     "text": [
      "enter the elements: 1 2 3 4 5 \n",
      "\n",
      "the average is: 3.0\n"
     ]
    }
   ],
   "source": [
    "list1=(input(\"enter the elements: \").split())\n",
    "sum1=0\n",
    "for x in list1:\n",
    "    sum1=sum1+int(x)\n",
    "average=sum1/len(list1)\n",
    "print(\"\")\n",
    "print(\"the average is:\",average)"
   ]
  },
  {
   "cell_type": "code",
   "execution_count": 22,
   "id": "593d4071",
   "metadata": {},
   "outputs": [],
   "source": [
    "#11). Write a Python program convert a given string to a tuple"
   ]
  },
  {
   "cell_type": "code",
   "execution_count": 23,
   "id": "ff131b51",
   "metadata": {},
   "outputs": [
    {
     "name": "stdout",
     "output_type": "stream",
     "text": [
      "enter the string: s u r y a\n",
      "\n",
      "the tuple is: ('s', 'u', 'r', 'y', 'a')\n"
     ]
    }
   ],
   "source": [
    "string=input(\"enter the string: \").split()\n",
    "list1=[]\n",
    "for i in string:\n",
    "    list1.append(i)\n",
    "tuple1=tuple(list1) \n",
    "print(\"\")\n",
    "print(\"the tuple is:\",tuple1)"
   ]
  }
 ],
 "metadata": {
  "kernelspec": {
   "display_name": "Python 3 (ipykernel)",
   "language": "python",
   "name": "python3"
  },
  "language_info": {
   "codemirror_mode": {
    "name": "ipython",
    "version": 3
   },
   "file_extension": ".py",
   "mimetype": "text/x-python",
   "name": "python",
   "nbconvert_exporter": "python",
   "pygments_lexer": "ipython3",
   "version": "3.11.3"
  }
 },
 "nbformat": 4,
 "nbformat_minor": 5
}
